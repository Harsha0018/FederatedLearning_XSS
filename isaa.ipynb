{
  "nbformat": 4,
  "nbformat_minor": 0,
  "metadata": {
    "colab": {
      "provenance": [],
      "gpuType": "T4"
    },
    "kernelspec": {
      "name": "python3",
      "display_name": "Python 3"
    },
    "language_info": {
      "name": "python"
    },
    "accelerator": "GPU"
  },
  "cells": [
    {
      "cell_type": "code",
      "execution_count": 68,
      "metadata": {
        "colab": {
          "base_uri": "https://localhost:8080/"
        },
        "id": "26x3mWqKz8WG",
        "outputId": "424226df-29ec-4f55-a3f6-2d33efdf9cb1"
      },
      "outputs": [
        {
          "output_type": "stream",
          "name": "stdout",
          "text": [
            "Requirement already satisfied: torch in /usr/local/lib/python3.10/dist-packages (2.1.0+cu118)\n",
            "Requirement already satisfied: tqdm in /usr/local/lib/python3.10/dist-packages (4.66.1)\n",
            "Requirement already satisfied: pandas in /usr/local/lib/python3.10/dist-packages (1.5.3)\n",
            "Requirement already satisfied: numpy in /usr/local/lib/python3.10/dist-packages (1.23.5)\n",
            "Requirement already satisfied: filelock in /usr/local/lib/python3.10/dist-packages (from torch) (3.13.1)\n",
            "Requirement already satisfied: typing-extensions in /usr/local/lib/python3.10/dist-packages (from torch) (4.5.0)\n",
            "Requirement already satisfied: sympy in /usr/local/lib/python3.10/dist-packages (from torch) (1.12)\n",
            "Requirement already satisfied: networkx in /usr/local/lib/python3.10/dist-packages (from torch) (3.2.1)\n",
            "Requirement already satisfied: jinja2 in /usr/local/lib/python3.10/dist-packages (from torch) (3.1.2)\n",
            "Requirement already satisfied: fsspec in /usr/local/lib/python3.10/dist-packages (from torch) (2023.6.0)\n",
            "Requirement already satisfied: triton==2.1.0 in /usr/local/lib/python3.10/dist-packages (from torch) (2.1.0)\n",
            "Requirement already satisfied: python-dateutil>=2.8.1 in /usr/local/lib/python3.10/dist-packages (from pandas) (2.8.2)\n",
            "Requirement already satisfied: pytz>=2020.1 in /usr/local/lib/python3.10/dist-packages (from pandas) (2023.3.post1)\n",
            "Requirement already satisfied: six>=1.5 in /usr/local/lib/python3.10/dist-packages (from python-dateutil>=2.8.1->pandas) (1.16.0)\n",
            "Requirement already satisfied: MarkupSafe>=2.0 in /usr/local/lib/python3.10/dist-packages (from jinja2->torch) (2.1.3)\n",
            "Requirement already satisfied: mpmath>=0.19 in /usr/local/lib/python3.10/dist-packages (from sympy->torch) (1.3.0)\n"
          ]
        }
      ],
      "source": [
        "!pip install torch tqdm pandas numpy"
      ]
    },
    {
      "cell_type": "code",
      "source": [
        "import torch\n",
        "import pandas as pd\n",
        "import numpy as np\n",
        "from torch.utils.data import Dataset, DataLoader\n",
        "from tqdm import tqdm\n",
        "import matplotlib.pyplot as plt\n",
        "import seaborn as sns"
      ],
      "metadata": {
        "id": "tGDdRkeR2Ht-"
      },
      "execution_count": 69,
      "outputs": []
    },
    {
      "cell_type": "code",
      "source": [
        "df = pd.read_csv('XSS_dataset.csv', index_col=0)\n",
        "client_losses, client_accuracies = [], []\n",
        "global_test_accuracies = []"
      ],
      "metadata": {
        "id": "1j4jlgocz9SA"
      },
      "execution_count": 70,
      "outputs": []
    },
    {
      "cell_type": "code",
      "source": [
        "train_df = df[:int(len(df)*0.6)]\n",
        "test_df = df[int(len(df)*0.4):]"
      ],
      "metadata": {
        "id": "r0cp5UvW3xn4"
      },
      "execution_count": 71,
      "outputs": []
    },
    {
      "cell_type": "code",
      "source": [
        "N = 10 # Number of clients\n",
        "client_data = np.array_split(train_df, N)"
      ],
      "metadata": {
        "id": "6Q4C8KSE2BGv"
      },
      "execution_count": 72,
      "outputs": []
    },
    {
      "cell_type": "code",
      "source": [
        "def data2char_index(data, max_len):\n",
        "    alphabet = \" abcdefghijklmnopqrstuvwxyz0123456789-,;.!?:'\\\"/\\\\|_@#$%^&*~`+-=<>()[]{}\"\n",
        "    mat = []\n",
        "    for ch in data:\n",
        "        if ch not in alphabet:\n",
        "            continue\n",
        "        mat.append(alphabet.index(ch))\n",
        "    if len(mat) < max_len:\n",
        "        mat += [0] * (max_len - len(mat))\n",
        "    elif len(mat) > max_len:\n",
        "        mat = mat[:max_len]\n",
        "    return mat"
      ],
      "metadata": {
        "id": "6xIKVJ222ZL5"
      },
      "execution_count": 73,
      "outputs": []
    },
    {
      "cell_type": "code",
      "source": [
        "class Dataset(torch.utils.data.Dataset):\n",
        "    def __init__(self, df, max_len) -> None:\n",
        "        self.df = df\n",
        "        self.max_len = max_len\n",
        "\n",
        "    def __len__(self):\n",
        "        return len(self.df)\n",
        "\n",
        "    def __getitem__(self, index):\n",
        "        sentence = self.df['Sentence'].values[index]\n",
        "        label = self.df['Label'].values[index]\n",
        "        return torch.tensor(data2char_index(sentence, self.max_len)), torch.tensor(label)\n"
      ],
      "metadata": {
        "id": "Odm75y3B2j_F"
      },
      "execution_count": 74,
      "outputs": []
    },
    {
      "cell_type": "code",
      "source": [
        "class TextCNN(torch.nn.Module):\n",
        "    def __init__(self, vocab_size, embedding_size, num_classes, kernel_sizes, num_kernels):\n",
        "        super(TextCNN, self).__init__()\n",
        "        self.embedding = torch.nn.Embedding(vocab_size, embedding_size)\n",
        "        self.convs = torch.nn.ModuleList(\n",
        "            [torch.nn.Conv2d(1, num_kernels, (K, embedding_size)) for K in kernel_sizes])\n",
        "        self.dropout = torch.nn.Dropout(0.5)\n",
        "        self.fc = torch.nn.Linear(len(kernel_sizes) * num_kernels, num_classes)\n",
        "\n",
        "    def forward(self, x):\n",
        "        x = self.embedding(x)  # [batch_size, sequence_length, embedding_size]\n",
        "        x = x.unsqueeze(1)  # [batch_size, 1, sequence_length, embedding_size]\n",
        "        x = [torch.nn.functional.relu(conv(x)).squeeze(3) for conv in self.convs]  # [batch_size, num_kernels, sequence_length - kernel_size + 1] * len(kernel_sizes)\n",
        "        x = [torch.nn.functional.max_pool1d(i, i.size(2)).squeeze(2) for i in x]  # [batch_size, num_kernels] * len(kernel_sizes)\n",
        "        x = torch.cat(x, 1) # [batch_size, num_kernels * len(kernel_sizes)]\n",
        "        x = self.dropout(x)  # (N, len(Ks)*Co)\n",
        "        logit = self.fc(x)  # (N, C)\n",
        "        return logit"
      ],
      "metadata": {
        "id": "ujCI0w3k2mJA"
      },
      "execution_count": 75,
      "outputs": []
    },
    {
      "cell_type": "code",
      "source": [
        "def train_on_client(model, train_loader, optimizer, loss_fn, device):\n",
        "    model.train()\n",
        "    total_loss = 0\n",
        "    for data, label in train_loader:\n",
        "        data, label = data.to(device), label.to(device)\n",
        "        optimizer.zero_grad()\n",
        "        output = model(data)\n",
        "        loss = loss_fn(output, label)\n",
        "        loss.backward()\n",
        "        optimizer.step()\n",
        "        total_loss += loss.item()\n",
        "    return total_loss / len(train_loader)\n"
      ],
      "metadata": {
        "id": "wZRs4ZGx2u60"
      },
      "execution_count": 76,
      "outputs": []
    },
    {
      "cell_type": "code",
      "source": [
        "def evaluate(model, test_loader, device):\n",
        "    model.eval()\n",
        "    correct = 0\n",
        "    with torch.no_grad():\n",
        "        for data, label in test_loader:\n",
        "            data, label = data.to(device), label.to(device)\n",
        "            output = model(data)\n",
        "            pred = output.argmax(dim=1, keepdim=True)\n",
        "            correct += pred.eq(label.view_as(pred)).sum().item()\n",
        "    return correct / len(test_loader.dataset)\n"
      ],
      "metadata": {
        "id": "sMUxoCzU2y8c"
      },
      "execution_count": 77,
      "outputs": []
    },
    {
      "cell_type": "code",
      "source": [
        "device = torch.device(\"cuda\" if torch.cuda.is_available() else \"cpu\")\n",
        "model = TextCNN(vocab_size=70, embedding_size=64, num_classes=2, kernel_sizes=[3, 4, 5], num_kernels=128).to(device)"
      ],
      "metadata": {
        "id": "n9jcqTS021Hb"
      },
      "execution_count": 78,
      "outputs": []
    },
    {
      "cell_type": "code",
      "source": [
        "optimizer = torch.optim.Adam(model.parameters(), lr=0.001)\n",
        "loss_fn = torch.nn.CrossEntropyLoss()\n"
      ],
      "metadata": {
        "id": "rktc-gKR23c-"
      },
      "execution_count": 79,
      "outputs": []
    },
    {
      "cell_type": "code",
      "source": [
        "testDataset = Dataset(test_df, 1000)\n",
        "testGenerator = torch.utils.data.DataLoader(testDataset, batch_size=128, shuffle=True)"
      ],
      "metadata": {
        "id": "HHJOydqg3J2M"
      },
      "execution_count": 80,
      "outputs": []
    },
    {
      "cell_type": "code",
      "source": [
        "epochs = 10\n",
        "for epoch in range(epochs):\n",
        "    epoch_losses, epoch_accuracies = [], []\n",
        "    for client_idx, client_df in enumerate(client_data):\n",
        "        train_dataset = Dataset(client_df, 1000)\n",
        "        train_loader = torch.utils.data.DataLoader(train_dataset, batch_size=128, shuffle=True)\n",
        "\n",
        "        train_loss = train_on_client(model, train_loader, optimizer, loss_fn, device)\n",
        "        epoch_losses.append(train_loss)\n",
        "        print(f\"Epoch {epoch}, Client {client_idx}, Training loss: {train_loss}\")\n",
        "\n",
        "        client_accuracy = evaluate(model, train_loader, device)\n",
        "        epoch_accuracies.append(client_accuracy)\n",
        "\n",
        "    # Aggregate metrics after all clients are trained\n",
        "    client_losses.append(np.mean(epoch_losses))\n",
        "    client_accuracies.append(np.mean(epoch_accuracies))\n",
        "\n",
        "    # Global evaluation after each round of training\n",
        "    global_accuracy = evaluate(model, testGenerator, device)\n",
        "    global_test_accuracies.append(global_accuracy)\n",
        "    print(f\"Epoch {epoch} - Average Client Loss: {np.mean(epoch_losses)}, Global Test Accuracy: {global_accuracy}\")\n"
      ],
      "metadata": {
        "colab": {
          "base_uri": "https://localhost:8080/"
        },
        "id": "ga8Y8EqM26zN",
        "outputId": "d6499b01-2abb-466d-d836-9dcf5f753e32"
      },
      "execution_count": 81,
      "outputs": [
        {
          "output_type": "stream",
          "name": "stdout",
          "text": [
            "Epoch 0, Client 0, Training loss: 0.4744110086134502\n",
            "Epoch 0, Client 1, Training loss: 0.08383300208619662\n",
            "Epoch 0, Client 2, Training loss: 0.03702521071370159\n",
            "Epoch 0, Client 3, Training loss: 0.038318337207393985\n",
            "Epoch 0, Client 4, Training loss: 0.02576003596186638\n",
            "Epoch 0, Client 5, Training loss: 0.021392692379387363\n",
            "Epoch 0, Client 6, Training loss: 0.01585747886981283\n",
            "Epoch 0, Client 7, Training loss: 0.011630922988323229\n",
            "Epoch 0, Client 8, Training loss: 0.013797109347901173\n",
            "Epoch 0, Client 9, Training loss: 0.012498017067887954\n",
            "Epoch 0 - Average Client Loss: 0.07345238152359213, Global Test Accuracy: 0.9956161714564052\n",
            "Epoch 1, Client 0, Training loss: 0.016573692239554867\n",
            "Epoch 1, Client 1, Training loss: 0.00987028590004359\n",
            "Epoch 1, Client 2, Training loss: 0.009900977269613318\n",
            "Epoch 1, Client 3, Training loss: 0.018640616509531225\n",
            "Epoch 1, Client 4, Training loss: 0.013711768385422016\n",
            "Epoch 1, Client 5, Training loss: 0.011055243401122945\n",
            "Epoch 1, Client 6, Training loss: 0.00638094571019922\n",
            "Epoch 1, Client 7, Training loss: 0.006248541442411286\n",
            "Epoch 1, Client 8, Training loss: 0.004697712753633303\n",
            "Epoch 1, Client 9, Training loss: 0.008531230568353618\n",
            "Epoch 1 - Average Client Loss: 0.010561101417988538, Global Test Accuracy: 0.9979298587433025\n",
            "Epoch 2, Client 0, Training loss: 0.010987534786441497\n",
            "Epoch 2, Client 1, Training loss: 0.0067040264257229865\n",
            "Epoch 2, Client 2, Training loss: 0.00534117581056697\n",
            "Epoch 2, Client 3, Training loss: 0.007402181326012526\n",
            "Epoch 2, Client 4, Training loss: 0.010262390557077847\n",
            "Epoch 2, Client 5, Training loss: 0.006171838214088764\n",
            "Epoch 2, Client 6, Training loss: 0.0037704110478184055\n",
            "Epoch 2, Client 7, Training loss: 0.0030237679103655474\n",
            "Epoch 2, Client 8, Training loss: 0.004161809321625957\n",
            "Epoch 2, Client 9, Training loss: 0.002510499342211655\n",
            "Epoch 2 - Average Client Loss: 0.0060335634741932155, Global Test Accuracy: 0.9981734047735021\n",
            "Epoch 3, Client 0, Training loss: 0.0037569494202866088\n",
            "Epoch 3, Client 1, Training loss: 0.002333401669082897\n",
            "Epoch 3, Client 2, Training loss: 0.003912878139609737\n",
            "Epoch 3, Client 3, Training loss: 0.006397014600224793\n",
            "Epoch 3, Client 4, Training loss: 0.0043509705033752\n",
            "Epoch 3, Client 5, Training loss: 0.004150267108343542\n",
            "Epoch 3, Client 6, Training loss: 0.003390264797157475\n",
            "Epoch 3, Client 7, Training loss: 0.003518189029169402\n",
            "Epoch 3, Client 8, Training loss: 0.0011703039719057934\n",
            "Epoch 3, Client 9, Training loss: 0.0035270036314614117\n",
            "Epoch 3 - Average Client Loss: 0.0036507242870616858, Global Test Accuracy: 0.9984169508037019\n",
            "Epoch 4, Client 0, Training loss: 0.0031932349666021764\n",
            "Epoch 4, Client 1, Training loss: 0.002694051504866885\n",
            "Epoch 4, Client 2, Training loss: 0.002284399961354211\n",
            "Epoch 4, Client 3, Training loss: 0.0031212180786366972\n",
            "Epoch 4, Client 4, Training loss: 0.0025986761819305165\n",
            "Epoch 4, Client 5, Training loss: 0.0011292585082368792\n",
            "Epoch 4, Client 6, Training loss: 0.0006622434136391218\n",
            "Epoch 4, Client 7, Training loss: 0.0008924583422153123\n",
            "Epoch 4, Client 8, Training loss: 0.0007739137924675431\n",
            "Epoch 4, Client 9, Training loss: 0.0009382582294555115\n",
            "Epoch 4 - Average Client Loss: 0.0018287712979404857, Global Test Accuracy: 0.9985387238188017\n",
            "Epoch 5, Client 0, Training loss: 0.002214087235708056\n",
            "Epoch 5, Client 1, Training loss: 0.0011390482166981591\n",
            "Epoch 5, Client 2, Training loss: 0.0021607993985526264\n",
            "Epoch 5, Client 3, Training loss: 0.0025296570758135723\n",
            "Epoch 5, Client 4, Training loss: 0.0018171218772684889\n",
            "Epoch 5, Client 5, Training loss: 0.001173542336411109\n",
            "Epoch 5, Client 6, Training loss: 0.0020733116751736297\n",
            "Epoch 5, Client 7, Training loss: 0.0012147510881602233\n",
            "Epoch 5, Client 8, Training loss: 0.0011963356747790904\n",
            "Epoch 5, Client 9, Training loss: 0.0033817262925107832\n",
            "Epoch 5 - Average Client Loss: 0.0018900380871075737, Global Test Accuracy: 0.9987822698490014\n",
            "Epoch 6, Client 0, Training loss: 0.003269224558607675\n",
            "Epoch 6, Client 1, Training loss: 0.0008517301653877699\n",
            "Epoch 6, Client 2, Training loss: 0.002005285379709676\n",
            "Epoch 6, Client 3, Training loss: 0.0013665065874062879\n",
            "Epoch 6, Client 4, Training loss: 0.0019480571926188922\n",
            "Epoch 6, Client 5, Training loss: 0.0021839753639402\n",
            "Epoch 6, Client 6, Training loss: 0.0013734610059015853\n",
            "Epoch 6, Client 7, Training loss: 0.0021491842978451003\n",
            "Epoch 6, Client 8, Training loss: 0.0003850019067093464\n",
            "Epoch 6, Client 9, Training loss: 0.0005762760307074391\n",
            "Epoch 6 - Average Client Loss: 0.0016108702488833973, Global Test Accuracy: 0.9986604968339016\n",
            "Epoch 7, Client 0, Training loss: 0.002593903066424121\n",
            "Epoch 7, Client 1, Training loss: 0.0016922626091400161\n",
            "Epoch 7, Client 2, Training loss: 0.0012403066752345435\n",
            "Epoch 7, Client 3, Training loss: 0.0004356221512093076\n",
            "Epoch 7, Client 4, Training loss: 0.0013180686323071963\n",
            "Epoch 7, Client 5, Training loss: 0.0006979406898608431\n",
            "Epoch 7, Client 6, Training loss: 0.0008454440820579683\n",
            "Epoch 7, Client 7, Training loss: 0.0053662000302990365\n",
            "Epoch 7, Client 8, Training loss: 0.0006185561744911995\n",
            "Epoch 7, Client 9, Training loss: 0.000778826247759363\n",
            "Epoch 7 - Average Client Loss: 0.0015587130358783595, Global Test Accuracy: 0.9990258158792011\n",
            "Epoch 8, Client 0, Training loss: 0.0006544247828839746\n",
            "Epoch 8, Client 1, Training loss: 0.00042413417083610384\n",
            "Epoch 8, Client 2, Training loss: 0.0032456503582320045\n",
            "Epoch 8, Client 3, Training loss: 0.0015844349213044292\n",
            "Epoch 8, Client 4, Training loss: 0.001664683673880063\n",
            "Epoch 8, Client 5, Training loss: 0.00034030973880102726\n",
            "Epoch 8, Client 6, Training loss: 0.0004044447539074879\n",
            "Epoch 8, Client 7, Training loss: 0.0013792671634291764\n",
            "Epoch 8, Client 8, Training loss: 0.0016075983560637855\n",
            "Epoch 8, Client 9, Training loss: 0.00048081680298699733\n",
            "Epoch 8 - Average Client Loss: 0.001178576472232505, Global Test Accuracy: 0.9987822698490014\n",
            "Epoch 9, Client 0, Training loss: 0.00114472109999042\n",
            "Epoch 9, Client 1, Training loss: 0.00030973366041767543\n",
            "Epoch 9, Client 2, Training loss: 0.0015897507484104218\n",
            "Epoch 9, Client 3, Training loss: 0.000977883043690651\n",
            "Epoch 9, Client 4, Training loss: 0.0032321628428430165\n",
            "Epoch 9, Client 5, Training loss: 0.003164651659192584\n",
            "Epoch 9, Client 6, Training loss: 0.00042745597810218375\n",
            "Epoch 9, Client 7, Training loss: 0.003228386438942315\n",
            "Epoch 9, Client 8, Training loss: 0.0006348564763486918\n",
            "Epoch 9, Client 9, Training loss: 0.0011484609640319832\n",
            "Epoch 9 - Average Client Loss: 0.0015858062911969944, Global Test Accuracy: 0.9989040428641013\n"
          ]
        }
      ]
    },
    {
      "cell_type": "code",
      "source": [
        "import matplotlib.pyplot as plt\n",
        "\n",
        "# Plotting Training Loss and Global Test Accuracy\n",
        "plt.figure(figsize=(12, 5))\n",
        "\n",
        "plt.subplot(1, 2, 1)\n",
        "plt.plot(client_losses, label='Average Client Training Loss')\n",
        "plt.title('Average Client Training Loss per Epoch')\n",
        "plt.xlabel('Epoch')\n",
        "plt.ylabel('Loss')\n",
        "plt.legend()\n",
        "\n",
        "plt.subplot(1, 2, 2)\n",
        "plt.plot(global_test_accuracies, label='Global Test Accuracy')\n",
        "plt.title('Global Test Accuracy per Epoch')\n",
        "plt.xlabel('Epoch')\n",
        "plt.ylabel('Accuracy')\n",
        "plt.legend()\n",
        "\n",
        "plt.tight_layout()\n",
        "plt.show()\n"
      ],
      "metadata": {
        "colab": {
          "base_uri": "https://localhost:8080/",
          "height": 504
        },
        "id": "WKf11Mt66L2z",
        "outputId": "baf307bd-2454-453e-e7c2-13378aed1108"
      },
      "execution_count": 82,
      "outputs": [
        {
          "output_type": "display_data",
          "data": {
            "text/plain": [
              "<Figure size 1200x500 with 2 Axes>"
            ],
            "image/png": "[encoded data removed]"
          },
          "metadata": {}
        }
      ]
    },
    {
      "cell_type": "markdown",
      "source": [
        "Evaluation\n"
      ],
      "metadata": {
        "id": "Z4OfcjI34I1Q"
      }
    },
    {
      "cell_type": "code",
      "source": [
        "class Eval():\n",
        "    def __init__(self):\n",
        "        self.tp = 0\n",
        "        self.fp = 0\n",
        "        self.fn = 0\n",
        "        self.tn = 0\n",
        "\n",
        "    def add(self, pred, label):\n",
        "        if pred == 1 and label == 1:\n",
        "            self.tp += 1\n",
        "        elif pred == 1 and label == 0:\n",
        "            self.fp += 1\n",
        "        elif pred == 0 and label == 1:\n",
        "            self.fn += 1\n",
        "        elif pred == 0 and label == 0:\n",
        "            self.tn += 1\n",
        "\n",
        "    def accuracy(self):\n",
        "        return (self.tp + self.tn) / (self.tp + self.fp + self.fn + self.tn)\n",
        "\n",
        "    def precision(self):\n",
        "        return self.tp / (self.tp + self.fp)\n",
        "\n",
        "    def recall(self):\n",
        "        return self.tp / (self.tp + self.fn)"
      ],
      "metadata": {
        "id": "VPICq81g2-CY"
      },
      "execution_count": 83,
      "outputs": []
    },
    {
      "cell_type": "code",
      "source": [
        "eval = Eval()\n",
        "model.cuda()\n",
        "model.eval()\n",
        "for data, label in testGenerator:\n",
        "    data = data.cuda()\n",
        "    label = label\n",
        "    output = model(data).argmax(dim=1).cpu()\n",
        "    for pred, l in zip(output, label):\n",
        "        eval.add(pred, l)\n",
        "print(f\"accuracy: {eval.accuracy()}\")\n",
        "print(f\"precision: {eval.precision()}\")\n",
        "print(f\"recall: {eval.recall()}\")"
      ],
      "metadata": {
        "colab": {
          "base_uri": "https://localhost:8080/"
        },
        "id": "YvkoNYvl4NCo",
        "outputId": "b74b4742-1d9b-4f9c-9223-812c1a2429d5"
      },
      "execution_count": 84,
      "outputs": [
        {
          "output_type": "stream",
          "name": "stdout",
          "text": [
            "accuracy: 0.9989040428641013\n",
            "precision: 1.0\n",
            "recall: 0.9979647218453188\n"
          ]
        }
      ]
    },
    {
      "cell_type": "markdown",
      "source": [
        "Prediction"
      ],
      "metadata": {
        "id": "FToeDveL4k7I"
      }
    },
    {
      "cell_type": "code",
      "source": [
        "def predict(model, input_text, max_len):\n",
        "    model.eval()  # Set the model to evaluation mode\n",
        "    processed_input = torch.tensor(data2char_index(input_text, max_len)).unsqueeze(0).to(device)  # Process input text and move to the correct device\n",
        "    with torch.no_grad():  # Disable gradient calculation\n",
        "        output = model(processed_input)  # Get model output\n",
        "        prediction = torch.argmax(output, dim=1).item()  # Get the index of the max log-probability as the prediction\n",
        "    return prediction\n"
      ],
      "metadata": {
        "id": "Epef2HUV4P39"
      },
      "execution_count": 85,
      "outputs": []
    },
    {
      "cell_type": "code",
      "source": [
        "# Example usage\n",
        "input_text = '<tt onmouseover=\"alert(1)\">test</tt>'  # Replace with your input text\n",
        "max_len = 1000  # The same max length used during training\n",
        "prediction = predict(model, input_text, max_len)\n",
        "print(f\"Predicted Label for '{input_text}': {prediction}\")\n"
      ],
      "metadata": {
        "id": "s3vYx8Mr4om4",
        "colab": {
          "base_uri": "https://localhost:8080/"
        },
        "outputId": "38cd6b94-caa9-4dce-a319-458e48adf524"
      },
      "execution_count": 86,
      "outputs": [
        {
          "output_type": "stream",
          "name": "stdout",
          "text": [
            "Predicted Label for '<tt onmouseover=\"alert(1)\">test</tt>': 1\n"
          ]
        }
      ]
    }
  ]
}